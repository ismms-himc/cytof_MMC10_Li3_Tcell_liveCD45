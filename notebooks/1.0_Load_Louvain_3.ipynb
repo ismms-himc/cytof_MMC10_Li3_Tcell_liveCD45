{
 "cells": [
  {
   "cell_type": "markdown",
   "metadata": {},
   "source": [
    "# Load Louvain 3"
   ]
  },
  {
   "cell_type": "code",
   "execution_count": 1,
   "metadata": {},
   "outputs": [],
   "source": [
    "import pandas as pd\n",
    "from clustergrammer_widget import *\n",
    "net = Network(clustergrammer_widget)"
   ]
  },
  {
   "cell_type": "code",
   "execution_count": 15,
   "metadata": {},
   "outputs": [],
   "source": [
    "from copy import deepcopy"
   ]
  },
  {
   "cell_type": "code",
   "execution_count": 7,
   "metadata": {},
   "outputs": [],
   "source": [
    "df = {}"
   ]
  },
  {
   "cell_type": "code",
   "execution_count": 12,
   "metadata": {},
   "outputs": [],
   "source": [
    "df['lv3-ini'] = pd.read_csv('../data/MMC10_Li3_Tcell_liveCD45/Louvain_3/summary.csv', index_col=0)"
   ]
  },
  {
   "cell_type": "code",
   "execution_count": 13,
   "metadata": {},
   "outputs": [],
   "source": [
    "# net.load_file('../data/MMC10_Li3_Tcell_liveCD45/Louvain_3/summary.csv')\n",
    "# df['lv3'] = net.export_df()"
   ]
  },
  {
   "cell_type": "code",
   "execution_count": 14,
   "metadata": {},
   "outputs": [
    {
     "data": {
      "text/html": [
       "<div>\n",
       "<table border=\"1\" class=\"dataframe\">\n",
       "  <thead>\n",
       "    <tr style=\"text-align: right;\">\n",
       "      <th></th>\n",
       "      <th>Louvain_3</th>\n",
       "      <th>Treatment</th>\n",
       "      <th>N</th>\n",
       "      <th>Total</th>\n",
       "      <th>Freq</th>\n",
       "      <th>CD45</th>\n",
       "      <th>CD57</th>\n",
       "      <th>In115Di</th>\n",
       "      <th>IdU</th>\n",
       "      <th>CD103</th>\n",
       "      <th>...</th>\n",
       "      <th>CD38</th>\n",
       "      <th>CD95</th>\n",
       "      <th>LAG3</th>\n",
       "      <th>CXCR3</th>\n",
       "      <th>HLADR</th>\n",
       "      <th>TIGIT</th>\n",
       "      <th>GranzymeB</th>\n",
       "      <th>DNA</th>\n",
       "      <th>Osmium</th>\n",
       "      <th>CD11b</th>\n",
       "    </tr>\n",
       "  </thead>\n",
       "  <tbody>\n",
       "    <tr>\n",
       "      <th>1</th>\n",
       "      <td>6</td>\n",
       "      <td>1_normal</td>\n",
       "      <td>8230</td>\n",
       "      <td>169733</td>\n",
       "      <td>0.048488</td>\n",
       "      <td>0.658259</td>\n",
       "      <td>0.169114</td>\n",
       "      <td>0.033096</td>\n",
       "      <td>0.240033</td>\n",
       "      <td>0.049980</td>\n",
       "      <td>...</td>\n",
       "      <td>0.142250</td>\n",
       "      <td>0.425633</td>\n",
       "      <td>0.091767</td>\n",
       "      <td>0.183889</td>\n",
       "      <td>0.122041</td>\n",
       "      <td>0.055854</td>\n",
       "      <td>0.435562</td>\n",
       "      <td>0.804734</td>\n",
       "      <td>0.862120</td>\n",
       "      <td>0.734667</td>\n",
       "    </tr>\n",
       "    <tr>\n",
       "      <th>2</th>\n",
       "      <td>6</td>\n",
       "      <td>2_border</td>\n",
       "      <td>250</td>\n",
       "      <td>55703</td>\n",
       "      <td>0.004488</td>\n",
       "      <td>0.690238</td>\n",
       "      <td>0.035653</td>\n",
       "      <td>0.012406</td>\n",
       "      <td>0.149922</td>\n",
       "      <td>0.040909</td>\n",
       "      <td>...</td>\n",
       "      <td>0.114886</td>\n",
       "      <td>0.371667</td>\n",
       "      <td>0.069548</td>\n",
       "      <td>0.203976</td>\n",
       "      <td>0.140674</td>\n",
       "      <td>0.046681</td>\n",
       "      <td>0.385222</td>\n",
       "      <td>0.814625</td>\n",
       "      <td>0.840464</td>\n",
       "      <td>0.764056</td>\n",
       "    </tr>\n",
       "    <tr>\n",
       "      <th>3</th>\n",
       "      <td>6</td>\n",
       "      <td>3_tumor</td>\n",
       "      <td>235</td>\n",
       "      <td>333723</td>\n",
       "      <td>0.000704</td>\n",
       "      <td>0.672674</td>\n",
       "      <td>0.034560</td>\n",
       "      <td>0.009759</td>\n",
       "      <td>0.216150</td>\n",
       "      <td>0.062991</td>\n",
       "      <td>...</td>\n",
       "      <td>0.158168</td>\n",
       "      <td>0.378995</td>\n",
       "      <td>0.079664</td>\n",
       "      <td>0.255813</td>\n",
       "      <td>0.148387</td>\n",
       "      <td>0.069659</td>\n",
       "      <td>0.409060</td>\n",
       "      <td>0.808674</td>\n",
       "      <td>0.823157</td>\n",
       "      <td>0.707447</td>\n",
       "    </tr>\n",
       "    <tr>\n",
       "      <th>4</th>\n",
       "      <td>7</td>\n",
       "      <td>1_normal</td>\n",
       "      <td>21617</td>\n",
       "      <td>169733</td>\n",
       "      <td>0.127359</td>\n",
       "      <td>0.429158</td>\n",
       "      <td>0.018248</td>\n",
       "      <td>0.005821</td>\n",
       "      <td>0.130442</td>\n",
       "      <td>0.052624</td>\n",
       "      <td>...</td>\n",
       "      <td>0.115924</td>\n",
       "      <td>0.278340</td>\n",
       "      <td>0.044500</td>\n",
       "      <td>0.088673</td>\n",
       "      <td>0.058971</td>\n",
       "      <td>0.042087</td>\n",
       "      <td>0.238030</td>\n",
       "      <td>0.751865</td>\n",
       "      <td>0.406691</td>\n",
       "      <td>0.569863</td>\n",
       "    </tr>\n",
       "    <tr>\n",
       "      <th>5</th>\n",
       "      <td>7</td>\n",
       "      <td>2_border</td>\n",
       "      <td>1015</td>\n",
       "      <td>55703</td>\n",
       "      <td>0.018222</td>\n",
       "      <td>0.531833</td>\n",
       "      <td>0.020442</td>\n",
       "      <td>0.006815</td>\n",
       "      <td>0.115594</td>\n",
       "      <td>0.047920</td>\n",
       "      <td>...</td>\n",
       "      <td>0.123638</td>\n",
       "      <td>0.322280</td>\n",
       "      <td>0.052708</td>\n",
       "      <td>0.097743</td>\n",
       "      <td>0.067522</td>\n",
       "      <td>0.038370</td>\n",
       "      <td>0.227413</td>\n",
       "      <td>0.767207</td>\n",
       "      <td>0.434562</td>\n",
       "      <td>0.678852</td>\n",
       "    </tr>\n",
       "  </tbody>\n",
       "</table>\n",
       "<p>5 rows × 44 columns</p>\n",
       "</div>"
      ],
      "text/plain": [
       "   Louvain_3 Treatment      N   Total      Freq      CD45      CD57   In115Di  \\\n",
       "1          6  1_normal   8230  169733  0.048488  0.658259  0.169114  0.033096   \n",
       "2          6  2_border    250   55703  0.004488  0.690238  0.035653  0.012406   \n",
       "3          6   3_tumor    235  333723  0.000704  0.672674  0.034560  0.009759   \n",
       "4          7  1_normal  21617  169733  0.127359  0.429158  0.018248  0.005821   \n",
       "5          7  2_border   1015   55703  0.018222  0.531833  0.020442  0.006815   \n",
       "\n",
       "        IdU     CD103    ...         CD38      CD95      LAG3     CXCR3  \\\n",
       "1  0.240033  0.049980    ...     0.142250  0.425633  0.091767  0.183889   \n",
       "2  0.149922  0.040909    ...     0.114886  0.371667  0.069548  0.203976   \n",
       "3  0.216150  0.062991    ...     0.158168  0.378995  0.079664  0.255813   \n",
       "4  0.130442  0.052624    ...     0.115924  0.278340  0.044500  0.088673   \n",
       "5  0.115594  0.047920    ...     0.123638  0.322280  0.052708  0.097743   \n",
       "\n",
       "      HLADR     TIGIT  GranzymeB       DNA    Osmium     CD11b  \n",
       "1  0.122041  0.055854   0.435562  0.804734  0.862120  0.734667  \n",
       "2  0.140674  0.046681   0.385222  0.814625  0.840464  0.764056  \n",
       "3  0.148387  0.069659   0.409060  0.808674  0.823157  0.707447  \n",
       "4  0.058971  0.042087   0.238030  0.751865  0.406691  0.569863  \n",
       "5  0.067522  0.038370   0.227413  0.767207  0.434562  0.678852  \n",
       "\n",
       "[5 rows x 44 columns]"
      ]
     },
     "execution_count": 14,
     "metadata": {},
     "output_type": "execute_result"
    }
   ],
   "source": [
    "df['lv3-ini'].head()"
   ]
  },
  {
   "cell_type": "code",
   "execution_count": 18,
   "metadata": {},
   "outputs": [],
   "source": [
    "cols = df['lv3-ini'].columns.tolist()"
   ]
  },
  {
   "cell_type": "code",
   "execution_count": 22,
   "metadata": {},
   "outputs": [
    {
     "name": "stdout",
     "output_type": "stream",
     "text": [
      "['CD45', 'CD57', 'In115Di', 'IdU', 'CD103', 'CD19', 'CD45RA', 'KLRG1', 'CD4', 'CD8', 'Perforin', 'CD16', 'CD127', 'CD1c', 'CD123', 'CD66b', 'PD1', 'ICOS', 'CD27', 'TIM3', 'CCR6', 'CD14', 'CD56', 'CD69', '41BB', 'CD25', 'CCR7', 'CD3', 'OX40', 'CD38', 'CD95', 'LAG3', 'CXCR3', 'HLADR', 'TIGIT', 'GranzymeB', 'DNA', 'Osmium', 'CD11b']\n"
     ]
    }
   ],
   "source": [
    "markers = cols[5:]\n",
    "print(markers)"
   ]
  },
  {
   "cell_type": "code",
   "execution_count": 38,
   "metadata": {},
   "outputs": [],
   "source": [
    "cluster_cats = {}\n",
    "for inst_col in cols[:5]:\n",
    "\n",
    "    inst_cats = df['lv3-ini'][inst_col].get_values().tolist()\n",
    "    \n",
    "    cluster_cats[inst_col] = inst_cats\n",
    "    "
   ]
  },
  {
   "cell_type": "code",
   "execution_count": 43,
   "metadata": {},
   "outputs": [
    {
     "name": "stdout",
     "output_type": "stream",
     "text": [
      "87\n"
     ]
    }
   ],
   "source": [
    "rows = df['lv3-ini'].index.tolist()\n",
    "print(len(rows))"
   ]
  },
  {
   "cell_type": "code",
   "execution_count": 72,
   "metadata": {
    "scrolled": false
   },
   "outputs": [
    {
     "name": "stdout",
     "output_type": "stream",
     "text": [
      "\n",
      "\n",
      "Cluster-6_normal\n",
      "\n",
      "\n",
      "Cluster-6_border\n",
      "\n",
      "\n",
      "Cluster-6_tumor\n",
      "\n",
      "\n",
      "Cluster-7_normal\n"
     ]
    }
   ],
   "source": [
    "for inst_row in range(len(rows[:4])):\n",
    "    inst_tuple = ()\n",
    "    print('\\n')\n",
    "\n",
    "    # gather category info for inst_row\n",
    "    inst_dict = {}    \n",
    "\n",
    "    inst_cats = cols[:5]\n",
    "    \n",
    "    for inst_cat_title in cols[:5]:\n",
    "\n",
    "        if inst_cat_title != 'N' and inst_cat_title != 'Total':\n",
    "            \n",
    "            # inst_row is the index\n",
    "            inst_cat = str(cluster_cats[inst_cat_title][inst_row])\n",
    "            \n",
    "            # add 'Cluster' to cluster index\n",
    "            if 'Louvain_' in inst_cat_title:\n",
    "                inst_cat = 'Cluster-' + inst_cat\n",
    "            \n",
    "            # remove number from 'treatment'\n",
    "            if 'Treatment' in inst_cat_title:\n",
    "                inst_cat = inst_cat.split('_')[1]\n",
    "            \n",
    "            inst_cat_name = inst_cat_title + ': ' + inst_cat\n",
    "\n",
    "            # add to inst_dict\n",
    "            inst_dict[inst_cat_title] = inst_cat_name\n",
    "    \n",
    "    # manually generate name\n",
    "    inst_name = inst_dict[inst_cats[0]].split(': ')[1] + '_' + inst_dict[inst_cats[1]].split(': ')[1]\n",
    "    \n",
    "    print(inst_name)\n",
    "    \n",
    "#             inst_tuple = inst_tuple + (inst_col, )"
   ]
  },
  {
   "cell_type": "code",
   "execution_count": 56,
   "metadata": {},
   "outputs": [
    {
     "data": {
      "text/plain": [
       "('Louvain_3', 'Treatment', 'Freq')"
      ]
     },
     "execution_count": 56,
     "metadata": {},
     "output_type": "execute_result"
    }
   ],
   "source": [
    "inst_tuple"
   ]
  },
  {
   "cell_type": "code",
   "execution_count": 29,
   "metadata": {},
   "outputs": [],
   "source": [
    "LV3_index = df['lv3-ini']['Louvain_3'].get_values().tolist()"
   ]
  },
  {
   "cell_type": "code",
   "execution_count": null,
   "metadata": {},
   "outputs": [],
   "source": [
    "sample_location = df['lv3-ini']['']"
   ]
  },
  {
   "cell_type": "code",
   "execution_count": null,
   "metadata": {},
   "outputs": [],
   "source": []
  },
  {
   "cell_type": "code",
   "execution_count": null,
   "metadata": {},
   "outputs": [],
   "source": []
  },
  {
   "cell_type": "code",
   "execution_count": 30,
   "metadata": {},
   "outputs": [],
   "source": [
    "# net.load_df(df['lv3'])\n",
    "# net.cluster()\n",
    "# net.widget()"
   ]
  },
  {
   "cell_type": "code",
   "execution_count": null,
   "metadata": {},
   "outputs": [],
   "source": []
  }
 ],
 "metadata": {
  "kernelspec": {
   "display_name": "Python [Root]",
   "language": "python",
   "name": "Python [Root]"
  },
  "language_info": {
   "codemirror_mode": {
    "name": "ipython",
    "version": 2
   },
   "file_extension": ".py",
   "mimetype": "text/x-python",
   "name": "python",
   "nbconvert_exporter": "python",
   "pygments_lexer": "ipython2",
   "version": "2.7.12"
  }
 },
 "nbformat": 4,
 "nbformat_minor": 2
}
